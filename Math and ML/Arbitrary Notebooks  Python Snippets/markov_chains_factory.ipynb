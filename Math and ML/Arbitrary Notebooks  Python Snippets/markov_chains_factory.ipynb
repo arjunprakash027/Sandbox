{
 "cells": [
  {
   "cell_type": "code",
   "execution_count": 21,
   "metadata": {},
   "outputs": [],
   "source": [
    "import numpy as np"
   ]
  },
  {
   "cell_type": "code",
   "execution_count": 22,
   "metadata": {},
   "outputs": [],
   "source": [
    "Probablities = np.array([\n",
    "[0.05,0.93,0.02,0.00],\n",
    "[0.10,0.86,0.04,0.00],\n",
    "[0.00,0.00,0.80,0.20],\n",
    "[0.50,0.10,0.00,0.40]])"
   ]
  },
  {
   "cell_type": "code",
   "execution_count": 23,
   "metadata": {},
   "outputs": [],
   "source": [
    "initial_working_state = np.array([0,200,0,0])"
   ]
  },
  {
   "cell_type": "code",
   "execution_count": 24,
   "metadata": {},
   "outputs": [],
   "source": [
    "working_states = [initial_working_state]"
   ]
  },
  {
   "cell_type": "code",
   "execution_count": 25,
   "metadata": {},
   "outputs": [
    {
     "data": {
      "text/plain": [
       "[array([  0, 200,   0,   0])]"
      ]
     },
     "execution_count": 25,
     "metadata": {},
     "output_type": "execute_result"
    }
   ],
   "source": [
    "working_states"
   ]
  },
  {
   "cell_type": "code",
   "execution_count": 26,
   "metadata": {},
   "outputs": [
    {
     "data": {
      "text/plain": [
       "array([  0, 200,   0,   0])"
      ]
     },
     "execution_count": 26,
     "metadata": {},
     "output_type": "execute_result"
    }
   ],
   "source": [
    "working_states[-1]"
   ]
  },
  {
   "cell_type": "code",
   "execution_count": 27,
   "metadata": {},
   "outputs": [],
   "source": [
    "for hours in range(2):\n",
    "    new_state = Probablities@working_states[-1]\n",
    "    working_states.append(new_state)"
   ]
  },
  {
   "cell_type": "code",
   "execution_count": 28,
   "metadata": {},
   "outputs": [
    {
     "data": {
      "text/plain": [
       "[array([  0, 200,   0,   0]),\n",
       " array([186., 172.,   0.,  20.]),\n",
       " array([169.26, 166.52,   4.  , 118.2 ])]"
      ]
     },
     "execution_count": 28,
     "metadata": {},
     "output_type": "execute_result"
    }
   ],
   "source": [
    "working_states"
   ]
  },
  {
   "cell_type": "markdown",
   "metadata": {},
   "source": [
    "# Trying to understand stuff"
   ]
  },
  {
   "cell_type": "markdown",
   "metadata": {},
   "source": [
    "Breakdown of @ Calculation (Matrix Multiplication)\n",
    "Here's what happens step-by-step when transition_matrix @ initial_state is calculated:\n",
    "\n",
    "next_state\n",
    "[\n",
    "0\n",
    "]\n",
    "=\n",
    "(\n",
    "0.8\n",
    "×\n",
    "100\n",
    ")\n",
    "+\n",
    "(\n",
    "0.2\n",
    "×\n",
    "50\n",
    ")\n",
    "=\n",
    "80\n",
    "+\n",
    "10\n",
    "=\n",
    "90\n",
    "next_state[0]=(0.8×100)+(0.2×50)=80+10=90\n",
    "next_state\n",
    "[\n",
    "1\n",
    "]\n",
    "=\n",
    "(\n",
    "0.4\n",
    "×\n",
    "100\n",
    ")\n",
    "+\n",
    "(\n",
    "0.6\n",
    "×\n",
    "50\n",
    ")\n",
    "=\n",
    "40\n",
    "+\n",
    "30\n",
    "=\n",
    "70\n",
    "next_state[1]=(0.4×100)+(0.6×50)=40+30=70\n",
    "So, the next_state vector [90, 70] represents the new distribution of entities across the two states."
   ]
  },
  {
   "cell_type": "code",
   "execution_count": 19,
   "metadata": {},
   "outputs": [
    {
     "name": "stdout",
     "output_type": "stream",
     "text": [
      "Transition Matrix:\n",
      "[[0.8 0.2]\n",
      " [0.4 0.6]]\n",
      "\n",
      "Initial State:\n",
      "[100  50]\n",
      "\n",
      "Next State (using @ for matrix multiplication):\n",
      "[90. 70.]\n"
     ]
    }
   ],
   "source": [
    "import numpy as np\n",
    "\n",
    "# Define a 2x2 transition matrix (like a Markov chain matrix)\n",
    "transition_matrix = np.array([\n",
    "    [0.8, 0.2],\n",
    "    [0.4, 0.6]\n",
    "])\n",
    "\n",
    "# Define an initial state vector (distribution across two states)\n",
    "initial_state = np.array([100, 50])\n",
    "\n",
    "# Calculate the next state by using matrix multiplication (@ operator)\n",
    "next_state = transition_matrix @ initial_state\n",
    "\n",
    "print(\"Transition Matrix:\")\n",
    "print(transition_matrix)\n",
    "\n",
    "print(\"\\nInitial State:\")\n",
    "print(initial_state)\n",
    "\n",
    "print(\"\\nNext State (using @ for matrix multiplication):\")\n",
    "print(next_state)\n"
   ]
  },
  {
   "cell_type": "code",
   "execution_count": null,
   "metadata": {},
   "outputs": [],
   "source": []
  }
 ],
 "metadata": {
  "kernelspec": {
   "display_name": "Python 3",
   "language": "python",
   "name": "python3"
  },
  "language_info": {
   "codemirror_mode": {
    "name": "ipython",
    "version": 3
   },
   "file_extension": ".py",
   "mimetype": "text/x-python",
   "name": "python",
   "nbconvert_exporter": "python",
   "pygments_lexer": "ipython3",
   "version": "3.10.12"
  }
 },
 "nbformat": 4,
 "nbformat_minor": 2
}
